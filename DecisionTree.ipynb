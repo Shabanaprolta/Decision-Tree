{
  "nbformat": 4,
  "nbformat_minor": 0,
  "metadata": {
    "colab": {
      "provenance": []
    },
    "kernelspec": {
      "name": "python3",
      "display_name": "Python 3"
    },
    "language_info": {
      "name": "python"
    }
  },
  "cells": [
    {
      "cell_type": "markdown",
      "source": [
        "# **Theoretical**\n",
        "\n",
        "#Q1 What is a Decision Tree, and how does it work?\n",
        "-> A Decision Tree is a supervised machine learning algorithm used for classification and regression tasks. It works by recursively splitting the dataset into subsets based on feature values, forming a tree structure where each internal node represents a decision based on a feature, branches represent possible values, and leaf nodes represent outcomes.\n",
        "\n",
        "#Q2 What are impurity measures in Decision Trees?\n",
        "-> Impurity measures quantify the uncertainty or disorder in a dataset at a node. Common impurity measures include Gini Impurity, Entropy, and Variance Reduction (for regression). These measures help decide the best feature to split the data.\n",
        "\n",
        "#Q3 What is the mathematical formula for Gini Impurity?\n",
        "->\n",
        "𝐺\n",
        "𝑖\n",
        "𝑛\n",
        "𝑖\n",
        "=\n",
        "1\n",
        "−\n",
        "∑\n",
        "𝑝\n",
        "𝑖\n",
        "2\n",
        "Gini=1−∑p\n",
        "i\n",
        "2\n",
        "​\n",
        "\n",
        "where\n",
        "𝑝\n",
        "𝑖\n",
        "p\n",
        "i\n",
        "​\n",
        "  is the probability of class\n",
        "𝑖\n",
        "i in the node.\n",
        "\n",
        "#Q4 What is the mathematical formula for Entropy?\n",
        "->\n",
        "𝐸\n",
        "𝑛\n",
        "𝑡\n",
        "𝑟\n",
        "𝑜\n",
        "𝑝\n",
        "𝑦\n",
        "=\n",
        "−\n",
        "∑\n",
        "𝑝\n",
        "𝑖\n",
        "log\n",
        "⁡\n",
        "2\n",
        "𝑝\n",
        "𝑖\n",
        "Entropy=−∑p\n",
        "i\n",
        "​\n",
        " log\n",
        "2\n",
        "​\n",
        " p\n",
        "i\n",
        "​\n",
        "\n",
        "where\n",
        "𝑝\n",
        "𝑖\n",
        "p\n",
        "i\n",
        "​\n",
        "  is the probability of class\n",
        "𝑖\n",
        "i.\n",
        "\n",
        "#Q5 What is Information Gain, and how is it used in Decision Trees?\n",
        "-> Information Gain measures the reduction in entropy after splitting a dataset based on a feature. It is used to determine the best feature for splitting by selecting the one that maximizes Information Gain.\n",
        "\n",
        "#Q6 What is the difference between Gini Impurity and Entropy?\n",
        "->\n",
        "- Gini Impurity: Measures the probability of incorrectly classifying a randomly chosen element.\n",
        "\n",
        "- Entropy: Measures the amount of disorder in a dataset.\n",
        "- Gini is computationally faster, while Entropy provides a more informative split.\n",
        "\n",
        "#Q7 What is the mathematical explanation behind Decision Trees?\n",
        "-> Decision Trees use recursive partitioning by selecting splits based on an impurity measure (like Gini or Entropy) and maximizing Information Gain to create a hierarchical tree structure.\n",
        "\n",
        "#Q8 What is Pre-Pruning in Decision Trees?\n",
        "-> Pre-Pruning stops the tree from growing beyond a certain depth or node count to prevent overfitting. It applies early stopping conditions such as a minimum number of samples required for a split.\n",
        "\n",
        "#Q9 What is Post-Pruning in Decision Trees?\n",
        "-> Post-Pruning involves growing the full tree and then removing nodes that do not contribute significantly to predictive performance, usually based on validation set performance.\n",
        "\n",
        "#Q10 What is the difference between Pre-Pruning and Post-Pruning?\n",
        "\n",
        "- Pre-Pruning: Stops tree growth early to prevent complexity.\n",
        "\n",
        "- Post-Pruning: Allows full tree growth and then removes unnecessary nodes.\n",
        "Post-Pruning often results in better generalization.\n",
        "\n",
        "#Q11 What is a Decision Tree Regressor?\n",
        "-> A Decision Tree Regressor is a Decision Tree model used for regression tasks. Instead of classifying data, it predicts continuous values by minimizing variance within splits.\n",
        "\n",
        "#Q12 What are the advantages and disadvantages of Decision Trees?\n",
        "- **Advantages**:\n",
        "\n",
        "- Easy to interpret and visualize.\n",
        "- Handles both numerical and categorical data.\n",
        "- Requires little data preprocessing.\n",
        "-Works well with feature interactions.\n",
        "\n",
        "- **Disadvantages**:\n",
        "\n",
        "- Prone to overfitting without pruning.\n",
        "- Sensitive to small data variations.\n",
        "- Can create biased trees if some classes dominate.\n",
        "\n",
        "#Q13 How does a Decision Tree handle missing values?\n",
        "->\n",
        "- Decision Trees can handle missing values by:\n",
        "- Using surrogate splits (alternative features).\n",
        "- Assigning the most frequent value in categorical data.\n",
        "- Using mean/median imputation for numerical data.\n",
        "\n",
        "#Q14 How does a Decision Tree handle categorical features?\n",
        "-> Categorical features are handled by:\n",
        "- One-hot encoding for binary splits.\n",
        "- Using label encoding (if order exists).\n",
        "- Grouping similar categories based on target distribution.\n",
        "\n",
        "#Q15 What are some real-world applications of Decision Trees?\n",
        "->\n",
        "- Healthcare: Diagnosing diseases.\n",
        "- Finance: Credit risk assessment.\n",
        "- Marketing: Customer segmentation.\n",
        "- Fraud Detection: Identifying fraudulent transactions.\n",
        "- Recommendation Systems: Personalizing product suggestions.\n",
        "\n"
      ],
      "metadata": {
        "id": "zISBm_sFOa_4"
      }
    },
    {
      "cell_type": "markdown",
      "source": [
        "# **Practical**\n"
      ],
      "metadata": {
        "id": "6A_qgW8jRXpn"
      }
    },
    {
      "cell_type": "code",
      "source": [
        "# import necessary Libraries\n",
        "from sklearn.tree import DecisionTreeClassifier, DecisionTreeRegressor\n",
        "from sklearn.datasets import load_iris, fetch_california_housing\n",
        "from sklearn.model_selection import train_test_split, GridSearchCV\n",
        "from sklearn.metrics import accuracy_score, mean_squared_error, classification_report, confusion_matrix\n",
        "import seaborn as sns\n",
        "import matplotlib.pyplot as plt\n",
        "import pandas as pd\n",
        "import numpy as np\n",
        "from sklearn.preprocessing import StandardScaler"
      ],
      "metadata": {
        "id": "HDsncqyyTe1i"
      },
      "execution_count": 8,
      "outputs": []
    },
    {
      "cell_type": "code",
      "source": [
        "# 16. Train Decision Tree Classifier on Iris dataset and print accuracy\n",
        "iris = load_iris()\n",
        "X_train, X_test, y_train, y_test = train_test_split(iris.data, iris.target, test_size=0.2, random_state=42)\n",
        "clf = DecisionTreeClassifier()\n",
        "clf.fit(X_train, y_train)\n",
        "y_pred = clf.predict(X_test)\n",
        "print(\"Accuracy:\", accuracy_score(y_test, y_pred))"
      ],
      "metadata": {
        "colab": {
          "base_uri": "https://localhost:8080/"
        },
        "id": "sFDt81_wSUU1",
        "outputId": "9c0f8133-80ca-47cc-b0ba-8e42324f439b"
      },
      "execution_count": 9,
      "outputs": [
        {
          "output_type": "stream",
          "name": "stdout",
          "text": [
            "Accuracy: 1.0\n"
          ]
        }
      ]
    },
    {
      "cell_type": "code",
      "source": [
        "# 17. Train Decision Tree using Gini Impurity and print feature importances\n",
        "clf_gini = DecisionTreeClassifier(criterion=\"gini\")\n",
        "clf_gini.fit(X_train, y_train)\n",
        "print(\"Feature Importances:\", clf_gini.feature_importances_)"
      ],
      "metadata": {
        "colab": {
          "base_uri": "https://localhost:8080/"
        },
        "id": "23Sntp3DSWFq",
        "outputId": "9a9abe08-0176-4537-c054-fba24027b9d3"
      },
      "execution_count": 10,
      "outputs": [
        {
          "output_type": "stream",
          "name": "stdout",
          "text": [
            "Feature Importances: [0.         0.01667014 0.40593501 0.57739485]\n"
          ]
        }
      ]
    },
    {
      "cell_type": "code",
      "source": [
        "# 18. Train Decision Tree using Entropy and print accuracy\n",
        "clf_entropy = DecisionTreeClassifier(criterion=\"entropy\")\n",
        "clf_entropy.fit(X_train, y_train)\n",
        "y_pred_entropy = clf_entropy.predict(X_test)\n",
        "print(\"Accuracy (Entropy):\", accuracy_score(y_test, y_pred_entropy))\n"
      ],
      "metadata": {
        "colab": {
          "base_uri": "https://localhost:8080/"
        },
        "id": "vpG2v8SwSV7v",
        "outputId": "bd86ac57-455d-4743-b6d2-b83ae3649c1e"
      },
      "execution_count": 11,
      "outputs": [
        {
          "output_type": "stream",
          "name": "stdout",
          "text": [
            "Accuracy (Entropy): 1.0\n"
          ]
        }
      ]
    },
    {
      "cell_type": "code",
      "source": [
        "# 19. Train Decision Tree Regressor on housing dataset and evaluate with MSE\n",
        "housing = fetch_california_housing()\n",
        "X_train, X_test, y_train, y_test = train_test_split(housing.data, housing.target, test_size=0.2, random_state=42)\n",
        "reg = DecisionTreeRegressor()\n",
        "reg.fit(X_train, y_train)\n",
        "y_pred_reg = reg.predict(X_test)\n",
        "print(\"Mean Squared Error:\", mean_squared_error(y_test, y_pred_reg))"
      ],
      "metadata": {
        "colab": {
          "base_uri": "https://localhost:8080/"
        },
        "id": "S5jVrt-oSV2y",
        "outputId": "4684102e-2fcb-49cc-dfe6-4375297b206e"
      },
      "execution_count": 12,
      "outputs": [
        {
          "output_type": "stream",
          "name": "stdout",
          "text": [
            "Mean Squared Error: 0.5032120152949371\n"
          ]
        }
      ]
    },
    {
      "cell_type": "code",
      "source": [
        "# 20. Visualize the Decision Tree using graphviz\n",
        "from sklearn.tree import export_text\n",
        "tree_rules = export_text(clf, feature_names=iris.feature_names)\n",
        "print(tree_rules)"
      ],
      "metadata": {
        "colab": {
          "base_uri": "https://localhost:8080/"
        },
        "id": "vdu4c5lKSVwS",
        "outputId": "73301655-12b9-4e91-ea1d-bad97b4603d9"
      },
      "execution_count": 13,
      "outputs": [
        {
          "output_type": "stream",
          "name": "stdout",
          "text": [
            "|--- petal length (cm) <= 2.45\n",
            "|   |--- class: 0\n",
            "|--- petal length (cm) >  2.45\n",
            "|   |--- petal length (cm) <= 4.75\n",
            "|   |   |--- petal width (cm) <= 1.65\n",
            "|   |   |   |--- class: 1\n",
            "|   |   |--- petal width (cm) >  1.65\n",
            "|   |   |   |--- class: 2\n",
            "|   |--- petal length (cm) >  4.75\n",
            "|   |   |--- petal width (cm) <= 1.75\n",
            "|   |   |   |--- petal length (cm) <= 4.95\n",
            "|   |   |   |   |--- class: 1\n",
            "|   |   |   |--- petal length (cm) >  4.95\n",
            "|   |   |   |   |--- petal width (cm) <= 1.55\n",
            "|   |   |   |   |   |--- class: 2\n",
            "|   |   |   |   |--- petal width (cm) >  1.55\n",
            "|   |   |   |   |   |--- petal length (cm) <= 5.45\n",
            "|   |   |   |   |   |   |--- class: 1\n",
            "|   |   |   |   |   |--- petal length (cm) >  5.45\n",
            "|   |   |   |   |   |   |--- class: 2\n",
            "|   |   |--- petal width (cm) >  1.75\n",
            "|   |   |   |--- petal length (cm) <= 4.85\n",
            "|   |   |   |   |--- sepal length (cm) <= 5.95\n",
            "|   |   |   |   |   |--- class: 1\n",
            "|   |   |   |   |--- sepal length (cm) >  5.95\n",
            "|   |   |   |   |   |--- class: 2\n",
            "|   |   |   |--- petal length (cm) >  4.85\n",
            "|   |   |   |   |--- class: 2\n",
            "\n"
          ]
        }
      ]
    },
    {
      "cell_type": "code",
      "source": [
        "# 21. Train Decision Tree with max_depth=3 and compare accuracy\n",
        "# Load the iris dataset (if it's not already loaded)\n",
        "from sklearn.datasets import load_iris\n",
        "iris = load_iris()\n",
        "\n",
        "# Split the iris dataset into training and testing sets\n",
        "X_train_iris, X_test_iris, y_train_iris, y_test_iris = train_test_split(\n",
        "    iris.data, iris.target, test_size=0.2, random_state=42\n",
        ")\n",
        "\n",
        "# Create and train the Decision Tree Classifier with max_depth=3\n",
        "clf_depth = DecisionTreeClassifier(max_depth=3)\n",
        "clf_depth.fit(X_train_iris, y_train_iris)  # Use iris data here\n",
        "\n",
        "# Make predictions on the test set\n",
        "y_pred_depth = clf_depth.predict(X_test_iris)  # Use iris data here\n",
        "\n",
        "# Print the accuracy\n",
        "print(\"Accuracy (Max Depth=3):\", accuracy_score(y_test_iris, y_pred_depth))"
      ],
      "metadata": {
        "colab": {
          "base_uri": "https://localhost:8080/"
        },
        "id": "ai0jpRAhSVtb",
        "outputId": "1e91c5d8-c8df-4153-b0b6-bbc053ecf9d5"
      },
      "execution_count": 14,
      "outputs": [
        {
          "output_type": "stream",
          "name": "stdout",
          "text": [
            "Accuracy (Max Depth=3): 1.0\n"
          ]
        }
      ]
    },
    {
      "cell_type": "code",
      "source": [
        "# 22. Train Decision Tree with min_samples_split=5 and compare accuracy\n",
        "iris = load_iris()\n",
        "X_train_iris, X_test_iris, y_train_iris, y_test_iris = train_test_split(iris.data, iris.target, test_size=0.2, random_state=42)\n",
        "\n",
        "clf_split = DecisionTreeClassifier(min_samples_split=5)\n",
        "# Use the Iris data for classification\n",
        "clf_split.fit(X_train_iris, y_train_iris)  # Changed from X_train, y_train\n",
        "y_pred_split = clf_split.predict(X_test_iris)  # Changed from X_test\n",
        "print(\"Accuracy (Min Samples Split=5):\", accuracy_score(y_test_iris, y_pred_split))  # Changed from y_test"
      ],
      "metadata": {
        "colab": {
          "base_uri": "https://localhost:8080/"
        },
        "id": "l2h10Hc8SVp-",
        "outputId": "9caf48be-b94a-4205-a657-c49eea6d0d1b"
      },
      "execution_count": 15,
      "outputs": [
        {
          "output_type": "stream",
          "name": "stdout",
          "text": [
            "Accuracy (Min Samples Split=5): 1.0\n"
          ]
        }
      ]
    },
    {
      "cell_type": "code",
      "source": [
        "# 23. Apply feature scaling before training and compare accuracy\n",
        "scaler = StandardScaler()\n",
        "X_train_scaled = scaler.fit_transform(X_train)\n",
        "X_test_scaled = scaler.transform(X_test)\n",
        "\n",
        "# Use DecisionTreeRegressor for continuous target variables (housing prices)\n",
        "reg_scaled = DecisionTreeRegressor()  # Changed from DecisionTreeClassifier\n",
        "\n",
        "reg_scaled.fit(X_train_scaled, y_train)\n",
        "y_pred_scaled = reg_scaled.predict(X_test_scaled)\n",
        "\n",
        "# Evaluate using Mean Squared Error (MSE) for regression\n",
        "print(\"Mean Squared Error (Scaled Features):\", mean_squared_error(y_test, y_pred_scaled))\n",
        "# Changed from accuracy_score"
      ],
      "metadata": {
        "colab": {
          "base_uri": "https://localhost:8080/"
        },
        "id": "cBNMDyHJSVl2",
        "outputId": "5bcc819f-1b53-41e6-b298-f161021316db"
      },
      "execution_count": 16,
      "outputs": [
        {
          "output_type": "stream",
          "name": "stdout",
          "text": [
            "Mean Squared Error (Scaled Features): 0.48946214293519863\n"
          ]
        }
      ]
    },
    {
      "cell_type": "code",
      "source": [
        "# 24. Train Decision Tree using One-vs-Rest (OvR) strategy for multiclass classification\n",
        "from sklearn.tree import DecisionTreeRegressor\n",
        "regressor = DecisionTreeRegressor()\n",
        "regressor.fit(X_train, y_train)\n",
        "y_pred_reg = regressor.predict(X_test)\n",
        "print(\"Mean Squared Error (Regressor):\", mean_squared_error(y_test, y_pred_reg))"
      ],
      "metadata": {
        "colab": {
          "base_uri": "https://localhost:8080/"
        },
        "id": "HTSk2685SVgI",
        "outputId": "5744df9f-894b-498b-92dc-b13629bffe1c"
      },
      "execution_count": 17,
      "outputs": [
        {
          "output_type": "stream",
          "name": "stdout",
          "text": [
            "Mean Squared Error (Regressor): 0.4994317397907703\n"
          ]
        }
      ]
    },
    {
      "cell_type": "code",
      "source": [
        "# 25. Display feature importance scores\n",
        "print(\"Feature Importances:\", clf.feature_importances_)"
      ],
      "metadata": {
        "colab": {
          "base_uri": "https://localhost:8080/"
        },
        "id": "2WPh9EPWSVdB",
        "outputId": "c15b010e-c2a2-4aa4-d81e-c5bd0252564a"
      },
      "execution_count": 18,
      "outputs": [
        {
          "output_type": "stream",
          "name": "stdout",
          "text": [
            "Feature Importances: [0.01667014 0.         0.90614339 0.07718647]\n"
          ]
        }
      ]
    },
    {
      "cell_type": "code",
      "source": [
        "# 26. Train Decision Tree Regressor with max_depth=5 and compare with unrestricted tree\n",
        "reg_depth = DecisionTreeRegressor(max_depth=5)\n",
        "reg_depth.fit(X_train, y_train)\n",
        "y_pred_reg_depth = reg_depth.predict(X_test)\n",
        "print(\"MSE (Max Depth=5):\", mean_squared_error(y_test, y_pred_reg_depth))\n"
      ],
      "metadata": {
        "colab": {
          "base_uri": "https://localhost:8080/"
        },
        "id": "PD0yDS41SVaZ",
        "outputId": "8a3c8e6f-4d65-4a31-d958-600587a7fec9"
      },
      "execution_count": 19,
      "outputs": [
        {
          "output_type": "stream",
          "name": "stdout",
          "text": [
            "MSE (Max Depth=5): 0.5245146178314735\n"
          ]
        }
      ]
    },
    {
      "cell_type": "code",
      "source": [
        "# 27. Apply Cost Complexity Pruning (CCP) and visualize accuracy\n",
        "# Assuming 'reg' is your DecisionTreeRegressor trained on housing data\n",
        "# Define and fit 'reg' before using it (if not already defined)\n",
        "from sklearn.tree import DecisionTreeRegressor  # Import the class\n",
        "reg = DecisionTreeRegressor()  # Create an instance\n",
        "# Load the California housing dataset\n",
        "housing = fetch_california_housing()\n",
        "\n",
        "# Split the housing dataset into training and testing sets\n",
        "X_train, X_test, y_train, y_test = train_test_split(\n",
        "    housing.data, housing.target, test_size=0.2, random_state=42\n",
        ")\n",
        "\n",
        "reg.fit(X_train, y_train)  # Fit the model with your training data\n",
        "\n",
        "# Now you can use 'reg' for pruning\n",
        "path = reg.cost_complexity_pruning_path(X_train, y_train)\n",
        "\n",
        "# Sample only 10 evenly spaced alpha values\n",
        "ccp_alphas = np.linspace(min(path.ccp_alphas), max(path.ccp_alphas), num=10)\n",
        "\n",
        "# Train models with these sampled alpha values\n",
        "ccp_regs = [DecisionTreeRegressor(ccp_alpha=alpha).fit(X_train, y_train) for alpha in ccp_alphas]\n",
        "\n",
        "# Evaluate MSE for these models\n",
        "mse_scores = [mean_squared_error(y_test, regressor.predict(X_test)) for regressor in ccp_regs]\n",
        "# Plot results\n",
        "plt.plot(ccp_alphas, mse_scores, marker=\"o\")\n",
        "plt.xlabel(\"CCP Alpha\")\n",
        "plt.ylabel(\"MSE\")\n",
        "plt.title(\"Effect of Cost Complexity Pruning on MSE\")\n",
        "plt.show()"
      ],
      "metadata": {
        "colab": {
          "base_uri": "https://localhost:8080/",
          "height": 472
        },
        "id": "V3DGV0uEmyWC",
        "outputId": "96591e9b-9a3a-410c-b871-6ae32f6a6af5"
      },
      "execution_count": 7,
      "outputs": [
        {
          "output_type": "display_data",
          "data": {
            "text/plain": [
              "<Figure size 640x480 with 1 Axes>"
            ],
            "image/png": "[encoded data removed]"
          },
          "metadata": {}
        }
      ]
    },
    {
      "cell_type": "code",
      "source": [
        "# 28. Evaluate performance using Precision, Recall, and F1-Score\n",
        "# Assuming clf is your classifier and it has been fitted with iris data\n",
        "# Assuming X_test_iris and y_test_iris are your test sets for the Iris dataset\n",
        "\n",
        "# Predict using the classifier on the Iris test set\n",
        "y_pred_iris = clf.predict(X_test_iris)\n",
        "\n",
        "# Generate the classification report using the Iris test set and predictions\n",
        "print(classification_report(y_test_iris, y_pred_iris))\n"
      ],
      "metadata": {
        "colab": {
          "base_uri": "https://localhost:8080/"
        },
        "id": "K8toMgqbSVVP",
        "outputId": "6341554a-88d9-401d-fbfc-9dcc6f000407"
      },
      "execution_count": 22,
      "outputs": [
        {
          "output_type": "stream",
          "name": "stdout",
          "text": [
            "              precision    recall  f1-score   support\n",
            "\n",
            "           0       1.00      1.00      1.00        10\n",
            "           1       1.00      1.00      1.00         9\n",
            "           2       1.00      1.00      1.00        11\n",
            "\n",
            "    accuracy                           1.00        30\n",
            "   macro avg       1.00      1.00      1.00        30\n",
            "weighted avg       1.00      1.00      1.00        30\n",
            "\n"
          ]
        }
      ]
    },
    {
      "cell_type": "code",
      "source": [
        "# 29. Visualize the confusion matrix using seaborn\n",
        "# Use y_test_iris and y_pred_iris for the Iris dataset (classification task)\n",
        "# Assuming 'clf' is your trained classifier and 'X_test_iris' is your test data\n",
        "y_pred_iris = clf.predict(X_test_iris)  # Predict on the test set\n",
        "conf_matrix = confusion_matrix(y_test_iris, y_pred_iris)  # Changed y_test and y_pred\n",
        "sns.heatmap(conf_matrix, annot=True, fmt=\"d\", cmap=\"Blues\")\n",
        "plt.xlabel(\"Predicted\")\n",
        "plt.ylabel(\"Actual\")\n",
        "plt.title(\"Confusion Matrix\")\n",
        "plt.show()"
      ],
      "metadata": {
        "colab": {
          "base_uri": "https://localhost:8080/",
          "height": 472
        },
        "id": "O9z-ASnbSVQf",
        "outputId": "bb453ba6-990d-4d08-ce38-61894ba08315"
      },
      "execution_count": 23,
      "outputs": [
        {
          "output_type": "display_data",
          "data": {
            "text/plain": [
              "<Figure size 640x480 with 2 Axes>"
            ],
            "image/png": "[encoded data removed]"
          },
          "metadata": {}
        }
      ]
    },
    {
      "cell_type": "code",
      "source": [
        "# 30. Use GridSearchCV to find optimal max_depth and min_samples_split\n",
        "param_grid = {\"max_depth\": [3, 5, 10], \"min_samples_split\": [2, 5, 10]}\n",
        "# Change to DecisionTreeRegressor for continuous target\n",
        "grid_search = GridSearchCV(DecisionTreeRegressor(), param_grid, cv=5)\n",
        "grid_search.fit(X_train, y_train)\n",
        "print(\"Best Parameters:\", grid_search.best_params_)"
      ],
      "metadata": {
        "colab": {
          "base_uri": "https://localhost:8080/"
        },
        "id": "QdvzbCxYSVM2",
        "outputId": "509ea536-9404-4396-d5da-a0f61f3b6269"
      },
      "execution_count": 21,
      "outputs": [
        {
          "output_type": "stream",
          "name": "stdout",
          "text": [
            "Best Parameters: {'max_depth': 10, 'min_samples_split': 10}\n"
          ]
        }
      ]
    }
  ]
}